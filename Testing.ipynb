{
 "cells": [
  {
   "cell_type": "code",
   "execution_count": null,
   "outputs": [],
   "source": [
    "import timeit\n",
    "\n",
    "# Using nested dictionaries\n",
    "nested_dict = {\n",
    "    'point1': {'point2': 10, 'point3': 20},\n",
    "    'point4': {'point5': 30, 'point6': 40}\n",
    "}\n",
    "\n",
    "def access_nested_dict():\n",
    "    return nested_dict['point1']['point2']\n",
    "\n",
    "# Using tuple keys\n",
    "tuple_dict = {\n",
    "    ('point1', 'point2'): 10,\n",
    "    ('point1', 'point3'): 20,\n",
    "    ('point4', 'point5'): 30,\n",
    "    ('point4', 'point6'): 40\n",
    "}\n",
    "\n",
    "def access_tuple_dict():\n",
    "    return tuple_dict[('point1', 'point2')]\n",
    "\n",
    "# Measure performance\n",
    "nested_time = timeit.timeit(access_nested_dict, number=1000000)\n",
    "tuple_time = timeit.timeit(access_tuple_dict, number=1000000)\n",
    "\n",
    "print(f\"Nested Dictionary Access Time: {nested_time:.6f} seconds\")\n",
    "print(f\"Tuple Dictionary Access Time: {tuple_time:.6f} seconds\")"
   ],
   "metadata": {
    "collapsed": false
   }
  },
  {
   "cell_type": "code",
   "execution_count": 3,
   "outputs": [
    {
     "data": {
      "text/plain": "['date', 'apple', 'cherry', 'banana']"
     },
     "execution_count": 3,
     "metadata": {},
     "output_type": "execute_result"
    }
   ],
   "source": [
    "my_dict = {\"apple\": 3, \"banana\": 1, \"cherry\": 2, \"date\": 4}\n",
    "\n",
    "# Sort the dictionary's keys based on their values\n",
    "sorted_keys = sorted(my_dict.keys(), key=lambda key: my_dict[key], reverse=True)\n",
    "sorted_keys"
   ],
   "metadata": {
    "collapsed": false,
    "ExecuteTime": {
     "end_time": "2023-10-16T12:40:33.149535800Z",
     "start_time": "2023-10-16T12:40:33.058277200Z"
    }
   }
  },
  {
   "cell_type": "code",
   "execution_count": 5,
   "outputs": [
    {
     "data": {
      "text/plain": "list"
     },
     "execution_count": 5,
     "metadata": {},
     "output_type": "execute_result"
    }
   ],
   "source": [
    "mylist = [1,2 ,3]\n",
    "new_list = mylist[0:1]\n"
   ],
   "metadata": {
    "collapsed": false,
    "ExecuteTime": {
     "end_time": "2023-10-17T11:20:18.229819100Z",
     "start_time": "2023-10-17T11:20:18.217145400Z"
    }
   }
  },
  {
   "cell_type": "code",
   "execution_count": null,
   "outputs": [],
   "source": [
    "testlist = list(range(10))\n",
    "print(testlist)\n",
    "new_list = testlist.copy()[3:]\n",
    "print(new_list)"
   ],
   "metadata": {
    "collapsed": false
   }
  },
  {
   "cell_type": "code",
   "execution_count": null,
   "outputs": [],
   "source": [
    "Tournament_probability = 0.5\n",
    "Tournament_size = 5\n",
    "_weights = [Tournament_probability* (1-Tournament_probability)**i for i in range(Tournament_size-1)]\n",
    "_weights.append(1- sum(_weights))\n",
    "_weights"
   ],
   "metadata": {
    "collapsed": false
   }
  },
  {
   "cell_type": "code",
   "execution_count": null,
   "outputs": [],
   "source": [
    "import random\n",
    "\n",
    "_p1 = [5, 1, 7, 8, 4, 9, 6, 2, 3]\n",
    "_p2 = [4, 7, 9, 5, 1, 6, 8, 2, 3]\n",
    "_child = _p1[:2]\n",
    "_next_parent = _p2\n",
    "_error = False\n",
    "while len(_child) < len(_p1):\n",
    "    _start = _child[-1]\n",
    "    _ind = _next_parent.index(_start)\n",
    "    if _ind + 1 == len(_next_parent): # edge case if the last arc is the same for both parents\n",
    "        _error = True\n",
    "    else:\n",
    "        _end = _next_parent[_ind + 1]\n",
    "    if _end in _child:\n",
    "        _error = True\n",
    "    if _error:\n",
    "        _rest = [i for i in _p1 if i not in _child]\n",
    "        _end = random.choice(_rest)\n",
    "    _child.append(_end)\n",
    "    if _next_parent == _p2:\n",
    "        _next_parent = _p1\n",
    "    else:\n",
    "        _next_parent = _p2\n",
    "print(_child)"
   ],
   "metadata": {
    "collapsed": false
   }
  },
  {
   "cell_type": "code",
   "execution_count": null,
   "outputs": [],
   "source": [
    "import random\n",
    "_chromosome = ['a', 'b', 'c', 'd', 'e', 'f', 'g', 'h']\n",
    "\n",
    "_ind1 = random.choice(range(len(_chromosome)+1))\n",
    "_ind2 = _ind1\n",
    "while _ind2 == _ind1:\n",
    "    _ind2 = random.choice(range(len(_chromosome)+1))\n",
    "_i1 = min(_ind1, _ind2)\n",
    "_i2 = max(_ind1, _ind2)\n",
    "\n",
    "_part1 = _chromosome[:_i1]\n",
    "_middle = _chromosome[_i1:_i2]\n",
    "_part2 = _chromosome[_i2:]\n",
    "_middle.reverse()\n",
    "_chromosome = _part1 + _middle + _part2\n",
    "\n",
    "\n",
    "print(_ind1, _ind2, _chromosome)"
   ],
   "metadata": {
    "collapsed": false
   }
  },
  {
   "cell_type": "code",
   "execution_count": null,
   "outputs": [],
   "source": [
    "import copy\n",
    "my_list = [ [1, 2, 3], [4,5] ]\n",
    "copy_list = copy.deepcopy(my_list)\n",
    "copy_list[0].remove(2)\n",
    "print(copy_list)\n",
    "print(my_list)"
   ],
   "metadata": {
    "collapsed": false
   }
  },
  {
   "cell_type": "code",
   "execution_count": null,
   "outputs": [],
   "source": [],
   "metadata": {
    "collapsed": false
   }
  },
  {
   "cell_type": "code",
   "execution_count": null,
   "outputs": [],
   "source": [
    "_gene_depot = ['c1','c2','c3','c4','c5']\n",
    "demand = {g: 1 for g in  _gene_depot}\n",
    "d = 'D'\n",
    "_network = [] # depot is possible starting node\n",
    "_cost = dict()\n",
    "for c1_ind in range(len(_gene_depot)):\n",
    "    c1 = _gene_depot[c1_ind]\n",
    "    # it´s easier to find c with the index than to find the index with c,\n",
    "    # since c could be twice or more in the list\n",
    "    _demand = 0\n",
    "    # _later_customers = _gene_depot.copy()[c1_ind+1:]\n",
    "    for c2_ind in range(c1_ind, len(_gene_depot)):\n",
    "        c2 = _gene_depot[c2_ind]\n",
    "        _cost[c1, c2] = []\n",
    "        if _demand + demand[c2] <= 3:\n",
    "            _demand += demand[c2]\n",
    "            # calculate the costs of the subtour\n",
    "\n",
    "            if c2_ind - c1_ind == 0:\n",
    "                # only one node in subtour\n",
    "                _cost[c1, c2].append((d, c1))\n",
    "                _cost[c1, c2].append((c2, d))\n",
    "\n",
    "            for n_ind in range(c1_ind, c2_ind): # if diff equal zero automatic kick out\n",
    "                n = _gene_depot[n_ind]\n",
    "                if n == c1:\n",
    "                    # first node of subtour\n",
    "                    _cost[c1, c2].append((d, n))\n",
    "\n",
    "                if c2_ind - c1_ind > 0:\n",
    "                    # middle nodes\n",
    "                    _cost[c1, c2].append((n, _gene_depot[n_ind +1]))\n",
    "\n",
    "                if _gene_depot[n_ind +1] == c2:\n",
    "                    # last node of subtour\n",
    "                    _cost[c1, c2].append((_gene_depot[n_ind +1], d))\n",
    "\n",
    "            _network.append(_cost[c1, c2])\n",
    "        else: # as soon as the demand is too high once, it will be too high for all the following nodes too\n",
    "            break\n",
    "\n",
    "for i in _network:\n",
    "    print(i)\n",
    "print(len(_network))"
   ],
   "metadata": {
    "collapsed": false,
    "is_executing": true
   }
  },
  {
   "cell_type": "code",
   "execution_count": null,
   "outputs": [],
   "source": [],
   "metadata": {
    "collapsed": false
   }
  },
  {
   "cell_type": "code",
   "execution_count": null,
   "outputs": [],
   "source": [],
   "metadata": {
    "collapsed": false
   }
  }
 ],
 "metadata": {
  "kernelspec": {
   "display_name": "Python 3",
   "language": "python",
   "name": "python3"
  },
  "language_info": {
   "codemirror_mode": {
    "name": "ipython",
    "version": 2
   },
   "file_extension": ".py",
   "mimetype": "text/x-python",
   "name": "python",
   "nbconvert_exporter": "python",
   "pygments_lexer": "ipython2",
   "version": "2.7.6"
  }
 },
 "nbformat": 4,
 "nbformat_minor": 0
}
