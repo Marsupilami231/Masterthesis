{
 "cells": [
  {
   "cell_type": "code",
   "execution_count": 4,
   "outputs": [
    {
     "name": "stdout",
     "output_type": "stream",
     "text": [
      "Nested Dictionary Access Time: 0.217727 seconds\n",
      "Tuple Dictionary Access Time: 0.213572 seconds\n"
     ]
    }
   ],
   "source": [
    "import timeit\n",
    "\n",
    "# Using nested dictionaries\n",
    "nested_dict = {\n",
    "    'point1': {'point2': 10, 'point3': 20},\n",
    "    'point4': {'point5': 30, 'point6': 40}\n",
    "}\n",
    "\n",
    "def access_nested_dict():\n",
    "    return nested_dict['point1']['point2']\n",
    "\n",
    "# Using tuple keys\n",
    "tuple_dict = {\n",
    "    ('point1', 'point2'): 10,\n",
    "    ('point1', 'point3'): 20,\n",
    "    ('point4', 'point5'): 30,\n",
    "    ('point4', 'point6'): 40\n",
    "}\n",
    "\n",
    "def access_tuple_dict():\n",
    "    return tuple_dict[('point1', 'point2')]\n",
    "\n",
    "# Measure performance\n",
    "nested_time = timeit.timeit(access_nested_dict, number=1000000)\n",
    "tuple_time = timeit.timeit(access_tuple_dict, number=1000000)\n",
    "\n",
    "print(f\"Nested Dictionary Access Time: {nested_time:.6f} seconds\")\n",
    "print(f\"Tuple Dictionary Access Time: {tuple_time:.6f} seconds\")"
   ],
   "metadata": {
    "collapsed": false,
    "ExecuteTime": {
     "end_time": "2023-08-08T11:43:33.796244700Z",
     "start_time": "2023-08-08T11:43:33.338781700Z"
    }
   }
  }
 ],
 "metadata": {
  "kernelspec": {
   "display_name": "Python 3",
   "language": "python",
   "name": "python3"
  },
  "language_info": {
   "codemirror_mode": {
    "name": "ipython",
    "version": 2
   },
   "file_extension": ".py",
   "mimetype": "text/x-python",
   "name": "python",
   "nbconvert_exporter": "python",
   "pygments_lexer": "ipython2",
   "version": "2.7.6"
  }
 },
 "nbformat": 4,
 "nbformat_minor": 0
}
