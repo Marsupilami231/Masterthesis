{
 "cells": [
  {
   "cell_type": "code",
   "execution_count": null,
   "outputs": [],
   "source": [
    "import timeit\n",
    "\n",
    "# Using nested dictionaries\n",
    "nested_dict = {\n",
    "    'point1': {'point2': 10, 'point3': 20},\n",
    "    'point4': {'point5': 30, 'point6': 40}\n",
    "}\n",
    "\n",
    "def access_nested_dict():\n",
    "    return nested_dict['point1']['point2']\n",
    "\n",
    "# Using tuple keys\n",
    "tuple_dict = {\n",
    "    ('point1', 'point2'): 10,\n",
    "    ('point1', 'point3'): 20,\n",
    "    ('point4', 'point5'): 30,\n",
    "    ('point4', 'point6'): 40\n",
    "}\n",
    "\n",
    "def access_tuple_dict():\n",
    "    return tuple_dict[('point1', 'point2')]\n",
    "\n",
    "# Measure performance\n",
    "nested_time = timeit.timeit(access_nested_dict, number=1000000)\n",
    "tuple_time = timeit.timeit(access_tuple_dict, number=1000000)\n",
    "\n",
    "print(f\"Nested Dictionary Access Time: {nested_time:.6f} seconds\")\n",
    "print(f\"Tuple Dictionary Access Time: {tuple_time:.6f} seconds\")"
   ],
   "metadata": {
    "collapsed": false
   }
  },
  {
   "cell_type": "code",
   "execution_count": null,
   "outputs": [],
   "source": [
    "testlist = list(range(10))\n",
    "print(testlist)\n",
    "new_list = testlist.copy()[3:]\n",
    "print(new_list)"
   ],
   "metadata": {
    "collapsed": false
   }
  },
  {
   "cell_type": "code",
   "execution_count": null,
   "outputs": [],
   "source": [
    "_gene_depot = ['c1','c2','c3','c4','c5']\n",
    "demand = {g: 1 for g in  _gene_depot}\n",
    "d = 'D'\n",
    "_network = [] # depot is possible starting node\n",
    "_cost = dict()\n",
    "for c1_ind in range(len(_gene_depot)):\n",
    "    c1 = _gene_depot[c1_ind]\n",
    "    # it´s easier to find c with the index than to find the index with c,\n",
    "    # since c could be twice or more in the list\n",
    "    _demand = 0\n",
    "    # _later_customers = _gene_depot.copy()[c1_ind+1:]\n",
    "    for c2_ind in range(c1_ind, len(_gene_depot)):\n",
    "        c2 = _gene_depot[c2_ind]\n",
    "        _cost[c1, c2] = []\n",
    "        if _demand + demand[c2] <= 3:\n",
    "            _demand += demand[c2]\n",
    "            # calculate the costs of the subtour\n",
    "\n",
    "            if c2_ind - c1_ind == 0:\n",
    "                # only one node in subtour\n",
    "                _cost[c1, c2].append((d, c1))\n",
    "                _cost[c1, c2].append((c2, d))\n",
    "\n",
    "            for n_ind in range(c1_ind, c2_ind): # if diff equal zero automatic kick out\n",
    "                n = _gene_depot[n_ind]\n",
    "                if n == c1:\n",
    "                    # first node of subtour\n",
    "                    _cost[c1, c2].append((d, n))\n",
    "\n",
    "                if c2_ind - c1_ind > 0:\n",
    "                    # middle nodes\n",
    "                    _cost[c1, c2].append((n, _gene_depot[n_ind +1]))\n",
    "\n",
    "                if _gene_depot[n_ind +1] == c2:\n",
    "                    # last node of subtour\n",
    "                    _cost[c1, c2].append((_gene_depot[n_ind +1], d))\n",
    "\n",
    "            _network.append(_cost[c1, c2])\n",
    "        else: # as soon as the demand is too high once, it will be too high for all the following nodes too\n",
    "            break\n",
    "\n",
    "for i in _network:\n",
    "    print(i)\n",
    "print(len(_network))"
   ],
   "metadata": {
    "collapsed": false,
    "is_executing": true
   }
  },
  {
   "cell_type": "code",
   "execution_count": 8,
   "outputs": [],
   "source": [],
   "metadata": {
    "collapsed": false,
    "ExecuteTime": {
     "end_time": "2023-09-01T12:11:32.300444300Z",
     "start_time": "2023-09-01T12:11:32.180043300Z"
    }
   }
  },
  {
   "cell_type": "code",
   "execution_count": 9,
   "outputs": [],
   "source": [],
   "metadata": {
    "collapsed": false
   }
  }
 ],
 "metadata": {
  "kernelspec": {
   "display_name": "Python 3",
   "language": "python",
   "name": "python3"
  },
  "language_info": {
   "codemirror_mode": {
    "name": "ipython",
    "version": 2
   },
   "file_extension": ".py",
   "mimetype": "text/x-python",
   "name": "python",
   "nbconvert_exporter": "python",
   "pygments_lexer": "ipython2",
   "version": "2.7.6"
  }
 },
 "nbformat": 4,
 "nbformat_minor": 0
}
